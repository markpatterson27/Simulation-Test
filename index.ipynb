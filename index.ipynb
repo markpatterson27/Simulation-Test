{
 "cells": [
  {
   "cell_type": "markdown",
   "metadata": {},
   "source": [
    "# Simulator Test\n",
    "\n",
    "Display a slider widget and return it's value.\n"
   ]
  },
  {
   "cell_type": "code",
   "execution_count": null,
   "metadata": {},
   "outputs": [],
   "source": [
    "import paho.mqtt.publish as mqtt_publish\n",
    "import ipywidgets as widgets\n",
    "\n",
    "# MQTT constants\n",
    "CLIENT_NAME = \"Binder Simulation Test\"\n",
    "BROKER_IP = \"34.255.161.78\"\n",
    "BROKER_PORT = \"1885\"\n",
    "BASE_TOPIC = \"binder-sim-test\"\n",
    "\n",
    "w = widgets.FloatSlider(\n",
    "    value=100,\n",
    "    min=3,\n",
    "    max=2400,\n",
    "    step=0.1,\n",
    "    description='Test:',\n",
    "    disabled=False,\n",
    "    continuous_update=False,\n",
    "    orientation='horizontal',\n",
    "    readout=True,\n",
    "    readout_format='.1f',\n",
    ")\n",
    "display(w)"
   ]
  },
  {
   "cell_type": "code",
   "execution_count": null,
   "metadata": {},
   "outputs": [],
   "source": [
    "w.value\n",
    "\n",
    "topic = BASE_TOPIC + '/slider-value'\n",
    "payload = w.value\n",
    "\n",
    "# send single message to mqtt broker\n",
    "mqtt_publish.single(topic, payload=payload, qos=0, retain=False, hostname=BROKER_IP,\n",
    "    port=BROKER_PORT, client_id=CLIENT_NAME, keepalive=60, will=None, auth=None, tls=None,\n",
    "    protocol=mqtt.MQTTv311, transport=\"tcp\")"
   ]
  }
 ],
 "metadata": {
  "language_info": {
   "codemirror_mode": {
    "name": "ipython",
    "version": 3
   },
   "file_extension": ".py",
   "mimetype": "text/x-python",
   "name": "python",
   "nbconvert_exporter": "python",
   "pygments_lexer": "ipython3",
   "version": 3
  },
  "orig_nbformat": 2
 },
 "nbformat": 4,
 "nbformat_minor": 2
}