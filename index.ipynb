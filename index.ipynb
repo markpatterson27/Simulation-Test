{
 "cells": [
  {
   "cell_type": "markdown",
   "metadata": {},
   "source": [
    "# Simulator Test\n",
    "\n",
    "Display a slider widget and return it's value.\n"
   ]
  },
  {
   "cell_type": "code",
   "execution_count": null,
   "metadata": {},
   "outputs": [
    {
     "output_type": "error",
     "ename": "Error",
     "evalue": "Jupyter cannot be started. Error attempting to locate jupyter: Data Science libraries notebook and jupyter are not installed in interpreter Python 3.6.6 64-bit.",
     "traceback": [
      "Error: Jupyter cannot be started. Error attempting to locate jupyter: Data Science libraries notebook and jupyter are not installed in interpreter Python 3.6.6 64-bit.",
      "at C.startServer (c:\\Users\\Mark\\.vscode\\extensions\\ms-python.python-2020.4.76186\\out\\client\\extension.js:75:829561)",
      "at async C.createServer (c:\\Users\\Mark\\.vscode\\extensions\\ms-python.python-2020.4.76186\\out\\client\\extension.js:75:829004)",
      "at async C.ensureServerAndNotebookImpl (c:\\Users\\Mark\\.vscode\\extensions\\ms-python.python-2020.4.76186\\out\\client\\extension.js:1:864755)",
      "at async C.ensureServerAndNotebook (c:\\Users\\Mark\\.vscode\\extensions\\ms-python.python-2020.4.76186\\out\\client\\extension.js:1:864445)",
      "at async C.clearResult (c:\\Users\\Mark\\.vscode\\extensions\\ms-python.python-2020.4.76186\\out\\client\\extension.js:1:860512)",
      "at async C.reexecuteCell (c:\\Users\\Mark\\.vscode\\extensions\\ms-python.python-2020.4.76186\\out\\client\\extension.js:1:848782)",
      "at async C.reexecuteCells (c:\\Users\\Mark\\.vscode\\extensions\\ms-python.python-2020.4.76186\\out\\client\\extension.js:1:845949)"
     ]
    }
   ],
   "source": [
    "import ipywidgets as widgets\n",
    "\n",
    "w = widgets.FloatSlider(\n",
    "    value=,\n",
    "    min=3,\n",
    "    max=2400,\n",
    "    step=0.1,\n",
    "    description='Test:',\n",
    "    disabled=False,\n",
    "    continuous_update=False,\n",
    "    orientation='horizontal',\n",
    "    readout=True,\n",
    "    readout_format='.1f',\n",
    ")\n",
    "display(w)"
   ]
  },
  {
   "cell_type": "code",
   "execution_count": null,
   "metadata": {},
   "outputs": [],
   "source": [
    "w.value"
   ]
  }
 ],
 "metadata": {
  "language_info": {
   "codemirror_mode": {
    "name": "ipython",
    "version": 3
   },
   "file_extension": ".py",
   "mimetype": "text/x-python",
   "name": "python",
   "nbconvert_exporter": "python",
   "pygments_lexer": "ipython3",
   "version": 3
  },
  "orig_nbformat": 2
 },
 "nbformat": 4,
 "nbformat_minor": 2
}